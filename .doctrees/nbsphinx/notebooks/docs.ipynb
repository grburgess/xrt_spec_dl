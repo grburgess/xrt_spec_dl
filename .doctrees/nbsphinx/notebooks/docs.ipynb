{
 "cells": [
  {
   "cell_type": "markdown",
   "id": "d56699e2",
   "metadata": {},
   "source": [
    "# Intro\n",
    "\n",
    "This is a simple tool to allow scripting of the awesome [XRT website](https://www.swift.ac.uk/xrt_products/index.php). The official API (which does a lot more) can be found [here](https://www.swift.ac.uk/user_objects/API/).\n",
    "\n",
    "These tools extend the functionality a bit."
   ]
  },
  {
   "cell_type": "code",
   "execution_count": 1,
   "id": "3f18de0a",
   "metadata": {
    "execution": {
     "iopub.execute_input": "2021-12-21T16:25:18.345399Z",
     "iopub.status.busy": "2021-12-21T16:25:18.344883Z",
     "iopub.status.idle": "2021-12-21T16:25:22.956014Z",
     "shell.execute_reply": "2021-12-21T16:25:22.954974Z"
    },
    "lines_to_next_cell": 2
   },
   "outputs": [],
   "source": [
    "%matplotlib inline\n",
    "\n",
    "from xrt_spec_dl import XRTLightCurve, download_xrt_spectral_data"
   ]
  },
  {
   "cell_type": "markdown",
   "id": "838571c5",
   "metadata": {},
   "source": [
    "## Downloading Spectra\n",
    "\n",
    "This allows you to download time-sliced spectra for spectral analysis. You can choose PC or WT mode."
   ]
  },
  {
   "cell_type": "code",
   "execution_count": 2,
   "id": "e19439ca",
   "metadata": {
    "execution": {
     "iopub.execute_input": "2021-12-21T16:25:22.960474Z",
     "iopub.status.busy": "2021-12-21T16:25:22.959992Z",
     "iopub.status.idle": "2021-12-21T16:25:22.963034Z",
     "shell.execute_reply": "2021-12-21T16:25:22.962643Z"
    }
   },
   "outputs": [],
   "source": [
    "obs_id = \"01071993\"\n",
    "\n",
    "grb = \"210905A\""
   ]
  },
  {
   "cell_type": "code",
   "execution_count": 3,
   "id": "35ce73f4",
   "metadata": {
    "execution": {
     "iopub.execute_input": "2021-12-21T16:25:22.968665Z",
     "iopub.status.busy": "2021-12-21T16:25:22.967883Z",
     "iopub.status.idle": "2021-12-21T16:30:29.706607Z",
     "shell.execute_reply": "2021-12-21T16:30:29.706165Z"
    },
    "lines_to_next_cell": 2
   },
   "outputs": [
    {
     "name": "stdout",
     "output_type": "stream",
     "text": [
      "[\u001b[32mINFO    \u001b[0m]\u001b[32m requesting build...\u001b[0m\n"
     ]
    },
    {
     "name": "stdout",
     "output_type": "stream",
     "text": [
      "[\u001b[32mINFO    \u001b[0m]\u001b[32m sleeping 30 seconds ...\u001b[0m\n"
     ]
    },
    {
     "name": "stdout",
     "output_type": "stream",
     "text": [
      "[\u001b[32mINFO    \u001b[0m]\u001b[32m requesting https://www.swift.ac.uk/xrt_spectra/tprods/SLICE_01071993_23.101.157.128_0MFk0bAmP/ ...\u001b[0m\n"
     ]
    },
    {
     "name": "stdout",
     "output_type": "stream",
     "text": [
      "[\u001b[32mINFO    \u001b[0m]\u001b[32m sleeping 30 seconds ...\u001b[0m\n"
     ]
    },
    {
     "name": "stdout",
     "output_type": "stream",
     "text": [
      "[\u001b[32mINFO    \u001b[0m]\u001b[32m sleeping 30 seconds ...\u001b[0m\n"
     ]
    },
    {
     "name": "stdout",
     "output_type": "stream",
     "text": [
      "[\u001b[32mINFO    \u001b[0m]\u001b[32m sleeping 30 seconds ...\u001b[0m\n"
     ]
    },
    {
     "name": "stdout",
     "output_type": "stream",
     "text": [
      "[\u001b[32mINFO    \u001b[0m]\u001b[32m sleeping 30 seconds ...\u001b[0m\n"
     ]
    },
    {
     "name": "stdout",
     "output_type": "stream",
     "text": [
      "[\u001b[32mINFO    \u001b[0m]\u001b[32m sleeping 30 seconds ...\u001b[0m\n"
     ]
    },
    {
     "name": "stdout",
     "output_type": "stream",
     "text": [
      "[\u001b[32mINFO    \u001b[0m]\u001b[32m sleeping 30 seconds ...\u001b[0m\n"
     ]
    },
    {
     "name": "stdout",
     "output_type": "stream",
     "text": [
      "[\u001b[32mINFO    \u001b[0m]\u001b[32m sleeping 30 seconds ...\u001b[0m\n"
     ]
    },
    {
     "name": "stdout",
     "output_type": "stream",
     "text": [
      "[\u001b[32mINFO    \u001b[0m]\u001b[32m sleeping 30 seconds ...\u001b[0m\n"
     ]
    },
    {
     "name": "stdout",
     "output_type": "stream",
     "text": [
      "[\u001b[32mINFO    \u001b[0m]\u001b[32m sleeping 30 seconds ...\u001b[0m\n"
     ]
    },
    {
     "name": "stdout",
     "output_type": "stream",
     "text": [
      "[\u001b[32mINFO    \u001b[0m]\u001b[32m downloading: https://www.swift.ac.uk/xrt_spectra/tprods/SLICE_01071993_23.101.157.128_0MFk0bAmP/xrt.tar.gz\u001b[0m\n"
     ]
    },
    {
     "name": "stdout",
     "output_type": "stream",
     "text": [
      "GRB_info.txt  _stub    apc.arf\tapc.rmf      apcback.pi    docs.md  xrt.tar.gz\r\n",
      "README.txt    a.areas  apc.pi\tapc_fit.fit  apcsource.pi  models\r\n"
     ]
    }
   ],
   "source": [
    "download_xrt_spectral_data(\n",
    "    obs_id=obs_id,\n",
    "    name=f\"GRB {grb}\",\n",
    "    mode=\"PC\",\n",
    "    tstart=239,\n",
    "    tstop=446,\n",
    "    destination_dir=\".\",\n",
    ")\n",
    "\n",
    "\n",
    "!ls"
   ]
  },
  {
   "cell_type": "markdown",
   "id": "c8e06fa6",
   "metadata": {},
   "source": [
    "## Downloading Light curves\n",
    "\n",
    "To get the light curve data for plotting purposes, we need to know the obs_id of the GRB. the class will look at the Swift data online and pull it for making plots. In the future, a cache options will be included for off-line use.\n"
   ]
  },
  {
   "cell_type": "code",
   "execution_count": 4,
   "id": "5064235f",
   "metadata": {
    "execution": {
     "iopub.execute_input": "2021-12-21T16:30:29.713202Z",
     "iopub.status.busy": "2021-12-21T16:30:29.712732Z",
     "iopub.status.idle": "2021-12-21T16:30:30.997297Z",
     "shell.execute_reply": "2021-12-21T16:30:30.996772Z"
    }
   },
   "outputs": [],
   "source": [
    "lc = XRTLightCurve(obs_id=obs_id)"
   ]
  },
  {
   "cell_type": "markdown",
   "id": "6aaf8485",
   "metadata": {},
   "source": [
    "The WT and PC data exist as astropy tables."
   ]
  },
  {
   "cell_type": "code",
   "execution_count": 5,
   "id": "03b4aee3",
   "metadata": {
    "execution": {
     "iopub.execute_input": "2021-12-21T16:30:31.003537Z",
     "iopub.status.busy": "2021-12-21T16:30:31.003006Z",
     "iopub.status.idle": "2021-12-21T16:30:31.009954Z",
     "shell.execute_reply": "2021-12-21T16:30:31.009539Z"
    }
   },
   "outputs": [
    {
     "data": {
      "text/html": [
       "<div><i>Table length=144</i>\n",
       "<table id=\"table140136953405648\" class=\"table-striped table-bordered table-condensed\">\n",
       "<thead><tr><th>time</th><th>time_perr</th><th>time_nerr</th><th>rate</th><th>rate_perr</th><th>rate_nerr</th><th>bkg</th><th>bkg_err</th><th>fracexp</th></tr></thead>\n",
       "<thead><tr><th>float64</th><th>float64</th><th>float64</th><th>float64</th><th>float64</th><th>float64</th><th>float64</th><th>float64</th><th>float64</th></tr></thead>\n",
       "<tr><td>98.6</td><td>0.494</td><td>-0.587</td><td>46.12369</td><td>6.87576</td><td>-6.876381</td><td>0.0</td><td>0.0</td><td>1.0</td></tr>\n",
       "<tr><td>99.793</td><td>0.649</td><td>-0.699</td><td>37.26021</td><td>5.603942</td><td>-5.604468</td><td>0.5035006</td><td>0.5035006</td><td>1.0</td></tr>\n",
       "<tr><td>101.143</td><td>0.645</td><td>-0.7</td><td>36.53476</td><td>5.55801</td><td>-5.558484</td><td>0.5048367</td><td>0.5048367</td><td>1.0</td></tr>\n",
       "<tr><td>102.437</td><td>0.689</td><td>-0.649</td><td>37.29176</td><td>5.559158</td><td>-5.559588</td><td>0.0</td><td>0.0</td><td>1.0</td></tr>\n",
       "<tr><td>103.504</td><td>0.48</td><td>-0.379</td><td>58.05943</td><td>8.655026</td><td>-8.655572</td><td>0.0</td><td>0.0</td><td>1.0</td></tr>\n",
       "<tr><td>104.747</td><td>0.522</td><td>-0.763</td><td>38.841</td><td>5.790096</td><td>-5.790403</td><td>0.0</td><td>0.0</td><td>1.0</td></tr>\n",
       "<tr><td>106.056</td><td>0.701</td><td>-0.787</td><td>33.54494</td><td>5.000598</td><td>-5.000809</td><td>0.0</td><td>0.0</td><td>1.0</td></tr>\n",
       "<tr><td>107.234</td><td>0.497</td><td>-0.478</td><td>49.62938</td><td>7.706306</td><td>-7.706513</td><td>1.392896</td><td>0.984926</td><td>1.0</td></tr>\n",
       "<tr><td>108.318</td><td>0.716</td><td>-0.586</td><td>38.25407</td><td>5.702591</td><td>-5.702744</td><td>0.0</td><td>0.0</td><td>1.0</td></tr>\n",
       "<tr><td>109.571</td><td>0.641</td><td>-0.537</td><td>40.87582</td><td>6.347078</td><td>-6.34723</td><td>1.15304</td><td>0.8153224</td><td>1.0</td></tr>\n",
       "<tr><td>...</td><td>...</td><td>...</td><td>...</td><td>...</td><td>...</td><td>...</td><td>...</td><td>...</td></tr>\n",
       "<tr><td>402.092</td><td>0.367</td><td>-0.343</td><td>69.74111</td><td>10.3964</td><td>-10.39647</td><td>0.0</td><td>0.0</td><td>1.0</td></tr>\n",
       "<tr><td>402.756</td><td>0.357</td><td>-0.298</td><td>75.61507</td><td>11.27204</td><td>-11.27211</td><td>0.0</td><td>0.0</td><td>1.0</td></tr>\n",
       "<tr><td>403.503</td><td>0.498</td><td>-0.39</td><td>54.92238</td><td>8.355262</td><td>-8.355314</td><td>0.7648364</td><td>0.7648364</td><td>1.0</td></tr>\n",
       "<tr><td>404.439</td><td>0.381</td><td>-0.438</td><td>60.49167</td><td>9.017574</td><td>-9.017632</td><td>0.0</td><td>0.0</td><td>1.0</td></tr>\n",
       "<tr><td>405.171</td><td>0.338</td><td>-0.352</td><td>70.6357</td><td>10.74571</td><td>-10.74577</td><td>0.9836565</td><td>0.9836565</td><td>1.0</td></tr>\n",
       "<tr><td>405.8</td><td>0.315</td><td>-0.29</td><td>81.84292</td><td>12.20043</td><td>-12.20051</td><td>0.0</td><td>0.0</td><td>1.0</td></tr>\n",
       "<tr><td>406.683</td><td>0.371</td><td>-0.568</td><td>52.70102</td><td>7.856212</td><td>-7.856261</td><td>0.0</td><td>0.0</td><td>1.0</td></tr>\n",
       "<tr><td>407.448</td><td>0.306</td><td>-0.395</td><td>70.62479</td><td>10.52813</td><td>-10.5282</td><td>0.0</td><td>0.0</td><td>1.0</td></tr>\n",
       "<tr><td>408.24</td><td>0.547</td><td>-0.485</td><td>47.25271</td><td>7.188487</td><td>-7.188536</td><td>0.6580304</td><td>0.6580304</td><td>1.0</td></tr>\n",
       "<tr><td>409.253</td><td>0.494</td><td>-0.466</td><td>51.53035</td><td>7.681699</td><td>-7.681759</td><td>0.0</td><td>0.0</td><td>1.0</td></tr>\n",
       "</table></div>"
      ],
      "text/plain": [
       "<Table length=144>\n",
       "  time  time_perr time_nerr   rate   ... rate_nerr    bkg     bkg_err  fracexp\n",
       "float64  float64   float64  float64  ...  float64   float64   float64  float64\n",
       "------- --------- --------- -------- ... --------- --------- --------- -------\n",
       "   98.6     0.494    -0.587 46.12369 ... -6.876381       0.0       0.0     1.0\n",
       " 99.793     0.649    -0.699 37.26021 ... -5.604468 0.5035006 0.5035006     1.0\n",
       "101.143     0.645      -0.7 36.53476 ... -5.558484 0.5048367 0.5048367     1.0\n",
       "102.437     0.689    -0.649 37.29176 ... -5.559588       0.0       0.0     1.0\n",
       "103.504      0.48    -0.379 58.05943 ... -8.655572       0.0       0.0     1.0\n",
       "104.747     0.522    -0.763   38.841 ... -5.790403       0.0       0.0     1.0\n",
       "106.056     0.701    -0.787 33.54494 ... -5.000809       0.0       0.0     1.0\n",
       "107.234     0.497    -0.478 49.62938 ... -7.706513  1.392896  0.984926     1.0\n",
       "108.318     0.716    -0.586 38.25407 ... -5.702744       0.0       0.0     1.0\n",
       "109.571     0.641    -0.537 40.87582 ...  -6.34723   1.15304 0.8153224     1.0\n",
       "    ...       ...       ...      ... ...       ...       ...       ...     ...\n",
       "402.092     0.367    -0.343 69.74111 ... -10.39647       0.0       0.0     1.0\n",
       "402.756     0.357    -0.298 75.61507 ... -11.27211       0.0       0.0     1.0\n",
       "403.503     0.498     -0.39 54.92238 ... -8.355314 0.7648364 0.7648364     1.0\n",
       "404.439     0.381    -0.438 60.49167 ... -9.017632       0.0       0.0     1.0\n",
       "405.171     0.338    -0.352  70.6357 ... -10.74577 0.9836565 0.9836565     1.0\n",
       "  405.8     0.315     -0.29 81.84292 ... -12.20051       0.0       0.0     1.0\n",
       "406.683     0.371    -0.568 52.70102 ... -7.856261       0.0       0.0     1.0\n",
       "407.448     0.306    -0.395 70.62479 ...  -10.5282       0.0       0.0     1.0\n",
       " 408.24     0.547    -0.485 47.25271 ... -7.188536 0.6580304 0.6580304     1.0\n",
       "409.253     0.494    -0.466 51.53035 ... -7.681759       0.0       0.0     1.0"
      ]
     },
     "execution_count": 5,
     "metadata": {},
     "output_type": "execute_result"
    }
   ],
   "source": [
    "lc.wt_data"
   ]
  },
  {
   "cell_type": "code",
   "execution_count": 6,
   "id": "6ad4ce8c",
   "metadata": {
    "execution": {
     "iopub.execute_input": "2021-12-21T16:30:31.015783Z",
     "iopub.status.busy": "2021-12-21T16:30:31.015294Z",
     "iopub.status.idle": "2021-12-21T16:30:31.018463Z",
     "shell.execute_reply": "2021-12-21T16:30:31.018059Z"
    }
   },
   "outputs": [
    {
     "data": {
      "text/html": [
       "<div><i>Table length=46</i>\n",
       "<table id=\"table140136953405888\" class=\"table-striped table-bordered table-condensed\">\n",
       "<thead><tr><th>time</th><th>time_perr</th><th>time_nerr</th><th>rate</th><th>rate_perr</th><th>rate_nerr</th><th>bkg</th><th>bkg_err</th><th>fracexp</th></tr></thead>\n",
       "<thead><tr><th>float64</th><th>float64</th><th>float64</th><th>float64</th><th>float64</th><th>float64</th><th>float64</th><th>float64</th><th>float64</th></tr></thead>\n",
       "<tr><td>257.813</td><td>11.352</td><td>-8.706</td><td>4.372901</td><td>0.9596635</td><td>-0.9596635</td><td>0.00582634</td><td>0.00291317</td><td>1.0</td></tr>\n",
       "<tr><td>279.741</td><td>9.483</td><td>-10.576</td><td>4.819593</td><td>1.008855</td><td>-1.008855</td><td>0.004369748</td><td>0.002522875</td><td>1.0</td></tr>\n",
       "<tr><td>297.701</td><td>9.074</td><td>-8.477</td><td>4.815297</td><td>1.076733</td><td>-1.076733</td><td>0.0</td><td>0.0</td><td>1.0</td></tr>\n",
       "<tr><td>315.513</td><td>8.813</td><td>-8.738</td><td>4.834247</td><td>1.084184</td><td>-1.084184</td><td>0.003329336</td><td>0.002354196</td><td>1.0</td></tr>\n",
       "<tr><td>332.385</td><td>4.478</td><td>-8.059</td><td>8.449322</td><td>1.697917</td><td>-1.697917</td><td>0.009322149</td><td>0.004661075</td><td>1.0</td></tr>\n",
       "<tr><td>342.069</td><td>4.822</td><td>-5.207</td><td>18.21536</td><td>2.789353</td><td>-2.789353</td><td>0.01748003</td><td>0.007136194</td><td>1.0</td></tr>\n",
       "<tr><td>3826.069</td><td>53.282</td><td>-44.503</td><td>0.4401046</td><td>0.09935974</td><td>-0.09935974</td><td>0.00193411</td><td>0.0006447033</td><td>1.0</td></tr>\n",
       "<tr><td>3927.847</td><td>66.841</td><td>-48.496</td><td>0.3732826</td><td>0.08436416</td><td>-0.08436416</td><td>0.001821987</td><td>0.0005761628</td><td>1.0</td></tr>\n",
       "<tr><td>4028.385</td><td>18.957</td><td>-33.697</td><td>0.8747612</td><td>0.1912754</td><td>-0.1912754</td><td>0.0007982025</td><td>0.0005644144</td><td>1.0</td></tr>\n",
       "<tr><td>4101.667</td><td>40.954</td><td>-54.324</td><td>0.4606588</td><td>0.1038888</td><td>-0.1038888</td><td>0.001764449</td><td>0.000623827</td><td>1.0</td></tr>\n",
       "<tr><td>...</td><td>...</td><td>...</td><td>...</td><td>...</td><td>...</td><td>...</td><td>...</td><td>...</td></tr>\n",
       "<tr><td>211078.674</td><td>12890.825</td><td>-23281.86</td><td>0.01366263</td><td>0.00278666</td><td>-0.00278666</td><td>0.0005820454</td><td>4.399849e-05</td><td>0.072087</td></tr>\n",
       "<tr><td>308026.999</td><td>18423.279</td><td>-40412.385</td><td>0.01324905</td><td>0.002303208</td><td>-0.002303208</td><td>0.0004166289</td><td>2.93139e-05</td><td>0.060386</td></tr>\n",
       "<tr><td>393391.557</td><td>12736.906</td><td>-5542.598</td><td>0.01059567</td><td>0.002160675</td><td>-0.002160675</td><td>0.0004718114</td><td>3.058299e-05</td><td>0.175571</td></tr>\n",
       "<tr><td>529458.552</td><td>38371.242</td><td>-26029.145</td><td>0.007084353</td><td>0.001486265</td><td>-0.001486265</td><td>0.0004642947</td><td>2.478222e-05</td><td>0.07444</td></tr>\n",
       "<tr><td>622744.928</td><td>52784.773</td><td>-27164.118</td><td>0.005327311</td><td>0.001427881</td><td>-0.001427881</td><td>0.0002677566</td><td>1.696839e-05</td><td>0.050178</td></tr>\n",
       "<tr><td>754403.214</td><td>59127.104</td><td>-27683.452</td><td>0.006130641</td><td>0.001000429</td><td>-0.001000429</td><td>0.0002468515</td><td>1.064253e-05</td><td>0.106461</td></tr>\n",
       "<tr><td>896943.44</td><td>14565.847</td><td>-9651.432</td><td>0.005536728</td><td>0.001371721</td><td>-0.001371721</td><td>0.0001883713</td><td>1.215932e-05</td><td>0.191537</td></tr>\n",
       "<tr><td>1138445.996</td><td>42882.962</td><td>-61848.181</td><td>0.003389486</td><td>0.0007969945</td><td>-0.0007969945</td><td>0.0005433904</td><td>1.888412e-05</td><td>0.085922</td></tr>\n",
       "<tr><td>1418780.46</td><td>352287.473</td><td>-181877.223</td><td>0.003075002</td><td>0.0005201644</td><td>-0.0005201644</td><td>0.0003124656</td><td>7.748934e-06</td><td>0.03871</td></tr>\n",
       "<tr><td>2570092.604</td><td>1007877.584</td><td>-272644.863</td><td>0.0006538729</td><td>0.0002275809</td><td>-0.0002275809</td><td>0.0001492451</td><td>3.738143e-06</td><td>0.020244</td></tr>\n",
       "</table></div>"
      ],
      "text/plain": [
       "<Table length=46>\n",
       "    time     time_perr   time_nerr  ...     bkg        bkg_err    fracexp \n",
       "  float64     float64     float64   ...   float64      float64    float64 \n",
       "----------- ----------- ----------- ... ------------ ------------ --------\n",
       "    257.813      11.352      -8.706 ...   0.00582634   0.00291317      1.0\n",
       "    279.741       9.483     -10.576 ...  0.004369748  0.002522875      1.0\n",
       "    297.701       9.074      -8.477 ...          0.0          0.0      1.0\n",
       "    315.513       8.813      -8.738 ...  0.003329336  0.002354196      1.0\n",
       "    332.385       4.478      -8.059 ...  0.009322149  0.004661075      1.0\n",
       "    342.069       4.822      -5.207 ...   0.01748003  0.007136194      1.0\n",
       "   3826.069      53.282     -44.503 ...   0.00193411 0.0006447033      1.0\n",
       "   3927.847      66.841     -48.496 ...  0.001821987 0.0005761628      1.0\n",
       "   4028.385      18.957     -33.697 ... 0.0007982025 0.0005644144      1.0\n",
       "   4101.667      40.954     -54.324 ...  0.001764449  0.000623827      1.0\n",
       "        ...         ...         ... ...          ...          ...      ...\n",
       " 211078.674   12890.825   -23281.86 ... 0.0005820454 4.399849e-05 0.072087\n",
       " 308026.999   18423.279  -40412.385 ... 0.0004166289  2.93139e-05 0.060386\n",
       " 393391.557   12736.906   -5542.598 ... 0.0004718114 3.058299e-05 0.175571\n",
       " 529458.552   38371.242  -26029.145 ... 0.0004642947 2.478222e-05  0.07444\n",
       " 622744.928   52784.773  -27164.118 ... 0.0002677566 1.696839e-05 0.050178\n",
       " 754403.214   59127.104  -27683.452 ... 0.0002468515 1.064253e-05 0.106461\n",
       "  896943.44   14565.847   -9651.432 ... 0.0001883713 1.215932e-05 0.191537\n",
       "1138445.996   42882.962  -61848.181 ... 0.0005433904 1.888412e-05 0.085922\n",
       " 1418780.46  352287.473 -181877.223 ... 0.0003124656 7.748934e-06  0.03871\n",
       "2570092.604 1007877.584 -272644.863 ... 0.0001492451 3.738143e-06 0.020244"
      ]
     },
     "execution_count": 6,
     "metadata": {},
     "output_type": "execute_result"
    }
   ],
   "source": [
    "lc.pc_data"
   ]
  },
  {
   "cell_type": "markdown",
   "id": "2a7e9766",
   "metadata": {},
   "source": [
    "Finally, we can plot the data"
   ]
  },
  {
   "cell_type": "code",
   "execution_count": 7,
   "id": "3834f1e3",
   "metadata": {
    "execution": {
     "iopub.execute_input": "2021-12-21T16:30:31.034257Z",
     "iopub.status.busy": "2021-12-21T16:30:31.033803Z",
     "iopub.status.idle": "2021-12-21T16:30:32.585802Z",
     "shell.execute_reply": "2021-12-21T16:30:32.585359Z"
    }
   },
   "outputs": [
    {
     "data": {
      "image/png": "[encoded data removed]",
      "text/plain": [
       "<Figure size 432x288 with 1 Axes>"
      ]
     },
     "execution_count": 7,
     "metadata": {},
     "output_type": "execute_result"
    },
    {
     "data": {
      "image/png": "[encoded data removed]",
      "text/plain": [
       "<Figure size 432x288 with 1 Axes>"
      ]
     },
     "metadata": {
      "needs_background": "light"
     },
     "output_type": "display_data"
    }
   ],
   "source": [
    "lc.plot(pc_mode=True, wt_mode=True)"
   ]
  },
  {
   "cell_type": "code",
   "execution_count": null,
   "id": "2ee96c66",
   "metadata": {},
   "outputs": [],
   "source": []
  }
 ],
 "metadata": {
  "jupytext": {
   "formats": "ipynb,md"
  },
  "kernelspec": {
   "display_name": "Python 3 (ipykernel)",
   "language": "python",
   "name": "python3"
  },
  "language_info": {
   "codemirror_mode": {
    "name": "ipython",
    "version": 3
   },
   "file_extension": ".py",
   "mimetype": "text/x-python",
   "name": "python",
   "nbconvert_exporter": "python",
   "pygments_lexer": "ipython3",
   "version": "3.8.12"
  }
 },
 "nbformat": 4,
 "nbformat_minor": 5
}
